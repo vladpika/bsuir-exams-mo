{
 "cells": [
  {
   "cell_type": "code",
   "execution_count": 1,
   "metadata": {},
   "outputs": [
    {
     "data": {
      "application/javascript": [
       "$(document).ready(() => {\n",
       "    // Удаление данного блока кода с конечного результата.\n",
       "    $('div.code_cell').first().css('display', 'none');\n",
       "\n",
       "    // Включение автоматического переноса слов в параграфе.\n",
       "    $('div.text_cell p').css('hyphens', 'auto');\n",
       "\n",
       "    // Включение растягивания текста на всю доступную длину.\n",
       "    $('div.text_cell p').css('text-align', 'justify');\n",
       "});\n"
      ],
      "text/plain": [
       "<IPython.core.display.Javascript object>"
      ]
     },
     "metadata": {},
     "output_type": "display_data"
    }
   ],
   "source": [
    "%%javascript\n",
    "$(document).ready(() => {\n",
    "    // Удаление данного блока кода с конечного результата.\n",
    "    $('div.code_cell').first().css('display', 'none');\n",
    "\n",
    "    // Включение автоматического переноса слов в параграфе.\n",
    "    $('div.text_cell p').css('hyphens', 'auto');\n",
    "\n",
    "    // Включение растягивания текста на всю доступную длину.\n",
    "    $('div.text_cell p').css('text-align', 'justify');\n",
    "});"
   ]
  },
  {
   "cell_type": "markdown",
   "metadata": {},
   "source": [
    "<h3><b>Лабораторная работа №3: Переобучение и регуляризация</b></h3>"
   ]
  },
  {
   "cell_type": "markdown",
   "metadata": {},
   "source": [
    "<p lang=\"ru\">Переобучение — это результат чрезмерной подгонки параметров модели к зависимостям, содержащимся в обучающем множестве. Если происходит переобучение, то модель не приобретает способности к обобщению — возможности распространять обнаруженные на обучающем множестве зависимости и закономерности на новые данные. Такая модель на практике оказывается бесполезной, даже если её ошибка обучения мала. Данную проблему решают с помощью регуляризации. Регуляризация в машинном обучении является методом добавления некоторых дополнительных ограничений к условию с целью решить некорректно поставленную задачу или предотвратить переобучение.</p>"
   ]
  },
  {
   "cell_type": "code",
   "execution_count": 2,
   "metadata": {},
   "outputs": [
    {
     "data": {
      "application/javascript": [
       "IPython.notebook.set_autosave_interval(300000)"
      ]
     },
     "metadata": {},
     "output_type": "display_data"
    },
    {
     "name": "stdout",
     "output_type": "stream",
     "text": [
      "Autosaving every 300 seconds\n"
     ]
    }
   ],
   "source": [
    "%autosave 300"
   ]
  },
  {
   "cell_type": "code",
   "execution_count": 3,
   "metadata": {},
   "outputs": [],
   "source": [
    "import warnings\n",
    "\n",
    "# Игнорирование некоторых оповещающих сообщений библиотек.\n",
    "warnings.filterwarnings('ignore', category=FutureWarning)"
   ]
  },
  {
   "cell_type": "code",
   "execution_count": 4,
   "metadata": {},
   "outputs": [],
   "source": [
    "import numpy as np"
   ]
  },
  {
   "cell_type": "code",
   "execution_count": 5,
   "metadata": {},
   "outputs": [],
   "source": [
    "# Импортирование дополнительного алгоритма для оптимизации модели.\n",
    "from scipy.optimize import fmin_cg"
   ]
  },
  {
   "cell_type": "code",
   "execution_count": 6,
   "metadata": {},
   "outputs": [],
   "source": [
    "# Импортирование функции для чтения MATLAB файлов.\n",
    "from scipy.io import loadmat"
   ]
  },
  {
   "cell_type": "code",
   "execution_count": 7,
   "metadata": {},
   "outputs": [],
   "source": [
    "# Импортирование библиотеки для работы с графиками.\n",
    "from matplotlib import pyplot\n",
    "%matplotlib inline"
   ]
  },
  {
   "cell_type": "code",
   "execution_count": 8,
   "metadata": {},
   "outputs": [],
   "source": [
    "# Установка начального значения для генератора случайных чисел.\n",
    "# Данное действие требуется для воспроизведения результатов опыта.\n",
    "np.random.seed(0)"
   ]
  },
  {
   "cell_type": "code",
   "execution_count": 9,
   "metadata": {},
   "outputs": [],
   "source": [
    "def extend_values(values):\n",
    "    # Добавление единичного столбца в качестве значений смещения.\n",
    "    return np.c_[(np.ones(values.shape[0]), values)]"
   ]
  },
  {
   "cell_type": "markdown",
   "metadata": {},
   "source": [
    "<p lang=\"ru\"><b>Пункт №1:&nbsp;</b>Загрузка первого предоставленного набора данных <tt>ex3data1.mat</tt> при помощи внешней библиотеки scipy. Текущий набор данных содержит некоторую информацию об изменениях уровня воды и объеме воды, вытекающего из дамбы.</p>"
   ]
  },
  {
   "cell_type": "code",
   "execution_count": 10,
   "metadata": {},
   "outputs": [],
   "source": [
    "data = loadmat('./datasets/ex3data1.mat')"
   ]
  },
  {
   "cell_type": "code",
   "execution_count": 11,
   "metadata": {},
   "outputs": [],
   "source": [
    "# Создание тренировочной выборки.\n",
    "train_x = data['X']\n",
    "train_y = data['y'].ravel()\n",
    "\n",
    "# Создание валидационной выборки.\n",
    "valid_x = data['Xval']\n",
    "valid_y = data['yval'].ravel()\n",
    "\n",
    "# Создание контрольной выборки.\n",
    "tests_x = data['Xtest']\n",
    "tests_y = data['ytest'].ravel()"
   ]
  },
  {
   "cell_type": "markdown",
   "metadata": {},
   "source": [
    "<p lang=\"ru\"><b>Пункт №2:&nbsp;</b>Построение графика зависимости уровня воды от вытекающего объема воды из дамбы. Всякую зависимость между двумя типами данных хорошо показывает диаграмма разброса значений. Ко всему прочему, с помощью этой диаграммы можно определить корреляцию между каким-либо параметром качества и влияющим на него фактором.</p>"
   ]
  },
  {
   "cell_type": "code",
   "execution_count": 12,
   "metadata": {},
   "outputs": [
    {
     "data": {
      "image/png": "[encoded data removed]",
      "text/plain": [
       "<Figure size 432x288 with 1 Axes>"
      ]
     },
     "metadata": {
      "needs_background": "light"
     },
     "output_type": "display_data"
    }
   ],
   "source": [
    "# Построение точечной диаграммы разброса данных.\n",
    "pyplot.scatter(train_x, train_y)\n",
    "\n",
    "# Настройка координатных осей графика.\n",
    "pyplot.xlabel('Изменение уровня воды в дамбе')\n",
    "pyplot.ylabel('Вытекающий объема воды из дамбы')\n",
    "\n",
    "# Настройка отображения.\n",
    "pyplot.tight_layout()\n",
    "\n",
    "# Отображение графика.\n",
    "pyplot.show()"
   ]
  },
  {
   "cell_type": "markdown",
   "metadata": {},
   "source": [
    "<p lang=\"ru\"><b>Пункт №3:&nbsp;</b>Реализация функции стоимости модели для набора данных <tt>ex3data1.mat</tt> при помощи внешней библиотеки numpy. Данная функция выражает меру количества ошибок, которые рассматриваемая модель делает на наборе данных. Хоть и существуют различные функции стоимости, все они вычисляют расстояние между предсказанным и фактическим значением.</p>"
   ]
  },
  {
   "cell_type": "code",
   "execution_count": 13,
   "metadata": {},
   "outputs": [],
   "source": [
    "def calc_cost(w, x, y):\n",
    "    # Функция вычисления значения стоимости математической модели.\n",
    "    return np.sum(np.square(x.dot(w) - y)) / (2 * y.shape[0])"
   ]
  },
  {
   "cell_type": "code",
   "execution_count": 14,
   "metadata": {},
   "outputs": [],
   "source": [
    "def calc_grad(w, x, y):\n",
    "    # Функция вычисления градиента функции стоимости.\n",
    "    return x.T.dot(x.dot(w) - y) / y.shape[0]"
   ]
  },
  {
   "cell_type": "markdown",
   "metadata": {},
   "source": [
    "<p lang=\"ru\"><b>Пункт №4:&nbsp;</b>Реализация алгоритма градиентного спуска с модификацией adam для выбора оптимальных параметров математической модели. Данная модификация стандартного алгоритма без труда справляется с проблемой впадин градиента и не так сильно подвержена застреванию в локальных минимумах функции, тем самым оптимизация происходит намного быстрее.</p>"
   ]
  },
  {
   "cell_type": "code",
   "execution_count": 15,
   "metadata": {},
   "outputs": [],
   "source": [
    "def fmin_adam(x0, fprime, args=(), alpha=0.05, beta_1=0.9, beta_2=0.999, eps=1e-6, eps_min=1e-8):\n",
    "    # Инициализация начального приближения модели.\n",
    "    xx = x0[:]\n",
    "    xi = x0[:]\n",
    "\n",
    "    # Инициализация скользящих средних.\n",
    "    m_t = np.zeros(xx.shape[0])\n",
    "    v_t = np.zeros(xx.shape[0])\n",
    "\n",
    "    funcalls = 1\n",
    "    while True:\n",
    "        # Вычисление значения градиента в данной точке.\n",
    "        grad = fprime(xx, *args)\n",
    "\n",
    "        # Обновление скользящих средних градиентов.\n",
    "        m_t = beta_1 * m_t + (1 - beta_1) * grad\n",
    "        v_t = beta_2 * v_t + (1 - beta_2) * np.square(grad)\n",
    "\n",
    "        # Вычисление коррекции расчета алгоритма.\n",
    "        mhat_t = m_t / (1 - (np.power(beta_1, funcalls)))\n",
    "        vhat_t = v_t / (1 - (np.power(beta_2, funcalls)))\n",
    "\n",
    "        # Пересчет значений параметров модели.\n",
    "        xi = xx - (alpha * mhat_t) / (np.sqrt(vhat_t) + eps_min)\n",
    "\n",
    "        # Условие остановки алгоритма оптимизации.\n",
    "        if np.sum(abs(xi - xx)) <= eps:\n",
    "            break\n",
    "\n",
    "        funcalls += 1\n",
    "        xx = xi  # Обновите значения параметров на новые.\n",
    "\n",
    "    return xx.ravel()"
   ]
  },
  {
   "cell_type": "code",
   "execution_count": 16,
   "metadata": {},
   "outputs": [],
   "source": [
    "def fit(x, y):\n",
    "    # Запуск оптимизации математической модели.\n",
    "    return fmin_adam(x0=np.zeros(x.shape[1]), fprime=calc_grad, args=(x, y))"
   ]
  },
  {
   "cell_type": "markdown",
   "metadata": {},
   "source": [
    "<p lang=\"ru\"><b>Пункт №5:&nbsp;</b>Построение полученной модели совместно с графиком зависимости уровня воды от вытекающего объема воды из дамбы. Данное действие необходимо для визуальной оценки корректности математической модели к обобщению данных.</p>"
   ]
  },
  {
   "cell_type": "code",
   "execution_count": 17,
   "metadata": {},
   "outputs": [
    {
     "name": "stdout",
     "output_type": "stream",
     "text": [
      "CPU times: user 107 ms, sys: 997 µs, total: 108 ms\n",
      "Wall time: 157 ms\n"
     ]
    }
   ],
   "source": [
    "%%time\n",
    "\n",
    "# Запуск оптимизации математической модели.\n",
    "thetas = fit(extend_values(train_x), train_y)"
   ]
  },
  {
   "cell_type": "code",
   "execution_count": 18,
   "metadata": {},
   "outputs": [
    {
     "data": {
      "image/png": "[encoded data removed]",
      "text/plain": [
       "<Figure size 432x288 with 1 Axes>"
      ]
     },
     "metadata": {
      "needs_background": "light"
     },
     "output_type": "display_data"
    }
   ],
   "source": [
    "# Построение разделяющей линии полученной математической модели.\n",
    "pyplot.plot(train_x, extend_values(train_x).dot(thetas), label='Линейная регрессия', color='r')\n",
    "\n",
    "# Настройка координатных осей графика.\n",
    "pyplot.legend(loc='best')\n",
    "\n",
    "# Построение точечной диаграммы разброса данных.\n",
    "pyplot.scatter(train_x, train_y)\n",
    "\n",
    "# Настройка координатных осей графика.\n",
    "pyplot.xlabel('Изменение уровня воды в дамбе')\n",
    "pyplot.ylabel('Вытекающий объема воды из дамбы')\n",
    "\n",
    "# Настройка отображения.\n",
    "pyplot.tight_layout()\n",
    "\n",
    "# Отображение графика.\n",
    "pyplot.show()"
   ]
  },
  {
   "cell_type": "markdown",
   "metadata": {},
   "source": [
    "<p lang=\"ru\"><b>Пункт №6:&nbsp;</b>Построение графика процесса обучения для обучающей и валидационной выборки. Кривая обучения — это графическое представление того, как изменение меры обученности зависит от определенной единицы измерения опыта. Данное действие необходимо для визуальной оценки корректности обучения математической модели. После построения графиков процесса обучения можно заметить, что тренировка модели не приносит результатов, т. к. значение стоимости на валидационной выборке не уменьшается.</p>"
   ]
  },
  {
   "cell_type": "code",
   "execution_count": 19,
   "metadata": {},
   "outputs": [],
   "source": [
    "def draw_process(cost_train, cost_valid):\n",
    "    # Построение графика процесса обучения исходной модели.\n",
    "    pyplot.plot(cost_train[1:], label='Обучающая выборка', marker='o')\n",
    "    pyplot.plot(cost_valid[1:], label='Валидационная выборка', marker='*')\n",
    "\n",
    "    # Настройка координатных осей графика.\n",
    "    pyplot.xlabel('Количество обучающих примеров')\n",
    "    pyplot.ylabel('Значение стоимости')\n",
    "\n",
    "    # Настройка координатных осей графика.\n",
    "    pyplot.legend(loc='best')\n",
    "\n",
    "    # Настройка отображения.\n",
    "    pyplot.tight_layout()\n",
    "\n",
    "    # Отображение графика.\n",
    "    pyplot.show()"
   ]
  },
  {
   "cell_type": "code",
   "execution_count": 20,
   "metadata": {},
   "outputs": [
    {
     "data": {
      "image/png": "[encoded data removed]",
      "text/plain": [
       "<Figure size 432x288 with 1 Axes>"
      ]
     },
     "metadata": {
      "needs_background": "light"
     },
     "output_type": "display_data"
    }
   ],
   "source": [
    "# Создание контейнеров для накопления значений стоимостей.\n",
    "train_cost = np.zeros(train_y.shape[0])\n",
    "valid_cost = np.zeros(train_y.shape[0])\n",
    "\n",
    "# Запуск оптимизации математической модели.\n",
    "for i in range(1, train_y.shape[0]):\n",
    "    temp = fit(extend_values(train_x)[0:i+1, :], train_y[0:i+1])\n",
    "\n",
    "    # Вычисление и сохранение стоимости на тестируемой и валидационной выборке.\n",
    "    train_cost[i] = calc_cost(temp, extend_values(train_x)[0:i+1, :], train_y[0:i+1])\n",
    "    valid_cost[i] = calc_cost(temp, extend_values(valid_x), valid_y)\n",
    "\n",
    "# Построение процесса обучения математической модели.\n",
    "draw_process(train_cost, valid_cost)"
   ]
  },
  {
   "cell_type": "code",
   "execution_count": 21,
   "metadata": {},
   "outputs": [
    {
     "name": "stdout",
     "output_type": "stream",
     "text": [
      "Значение стоимости: 29.433878918718456\n"
     ]
    }
   ],
   "source": [
    "# Вычисление значения стоимости обученной математической модели.\n",
    "print('Значение стоимости:', calc_cost(thetas, extend_values(valid_x), valid_y))"
   ]
  },
  {
   "cell_type": "markdown",
   "metadata": {},
   "source": [
    "<p lang=\"ru\"><b>Пункт №7:&nbsp;</b>Реализация функции добавления нескольких новых признаков в обучающую выборку. Данное действие позволит создать дополнительные признаки, которые помогут обучить модель обобщать нелинейные данные намного лучше.</p>"
   ]
  },
  {
   "cell_type": "code",
   "execution_count": 22,
   "metadata": {},
   "outputs": [],
   "source": [
    "def create_feature_map(x, degree=8):\n",
    "    # Создание вектора для накопления карты признаков.\n",
    "    out_map = np.ones((x.shape[0], degree))\n",
    "\n",
    "    for i in range(0, degree):\n",
    "        # Вычисление нового признака.\n",
    "        out_map[:, i] = np.power(x.ravel(), i + 1)\n",
    "\n",
    "    return out_map"
   ]
  },
  {
   "cell_type": "code",
   "execution_count": 23,
   "metadata": {},
   "outputs": [],
   "source": [
    "# Расширение признаков тренировочной выборки.\n",
    "train_poly = create_feature_map(train_x)\n",
    "\n",
    "# Расширение признаков валидационной выборки.\n",
    "valid_poly = create_feature_map(valid_x)\n",
    "\n",
    "# Расширение признаков контрольной выборки.\n",
    "tests_poly = create_feature_map(tests_x)"
   ]
  },
  {
   "cell_type": "markdown",
   "metadata": {},
   "source": [
    "<p lang=\"ru\"><b>Пункт №8:&nbsp;</b>Нормализация признаков данных. Нормализация предполагает замену номинальных признаков так, чтобы каждый из них лежал в диапазоне от нуля до единицы. Это необходимо поскольку в данной задаче будет использован полином высокой степени.</p>"
   ]
  },
  {
   "cell_type": "code",
   "execution_count": 24,
   "metadata": {},
   "outputs": [],
   "source": [
    "class StandartScaler:\n",
    "\n",
    "    def __init__(self, data):\n",
    "        # Вычисление мат. ожидания и среднего отклонения выборки.\n",
    "        self.mean = data.mean(axis=0)\n",
    "        self.std = data.std(axis=0, ddof=1)\n",
    "\n",
    "    def transform(self, data):\n",
    "        # Произведение стандартной нормализации.\n",
    "        return (data - self.mean) / self.std"
   ]
  },
  {
   "cell_type": "code",
   "execution_count": 25,
   "metadata": {},
   "outputs": [],
   "source": [
    "scaler = StandartScaler(train_poly)"
   ]
  },
  {
   "cell_type": "code",
   "execution_count": 26,
   "metadata": {},
   "outputs": [],
   "source": [
    "# Нормализация признаков тренировочной выборки.\n",
    "train_norm = extend_values(scaler.transform(train_poly))\n",
    "\n",
    "# Нормализация признаков валидационной выборки.\n",
    "valid_norm = extend_values(scaler.transform(valid_poly))\n",
    "\n",
    "# Нормализация признаков контрольной выборки.\n",
    "tests_norm = extend_values(scaler.transform(tests_poly))"
   ]
  },
  {
   "cell_type": "markdown",
   "metadata": {},
   "source": [
    "<p lang=\"ru\"><b>Пункт №9:&nbsp;</b>Обучение математической модели и построение графика ее процесса обучения для обучающей и валидационной выборки. Кривая обучения — это графическое представление того, как изменение меры обученности зависит от определенной единицы измерения опыта. Данное действие необходимо для визуальной оценки корректности обучения математической модели.</p>"
   ]
  },
  {
   "cell_type": "code",
   "execution_count": 27,
   "metadata": {},
   "outputs": [
    {
     "name": "stdout",
     "output_type": "stream",
     "text": [
      "CPU times: user 22.1 s, sys: 109 ms, total: 22.2 s\n",
      "Wall time: 24.2 s\n"
     ]
    }
   ],
   "source": [
    "%%time\n",
    "\n",
    "# Запуск оптимизации математической модели.\n",
    "thetas = fit(train_norm, train_y)"
   ]
  },
  {
   "cell_type": "code",
   "execution_count": 28,
   "metadata": {},
   "outputs": [
    {
     "data": {
      "image/png": "[encoded data removed]",
      "text/plain": [
       "<Figure size 432x288 with 1 Axes>"
      ]
     },
     "metadata": {
      "needs_background": "light"
     },
     "output_type": "display_data"
    }
   ],
   "source": [
    "# Создание контейнеров для накопления значений стоимостей.\n",
    "train_cost = np.zeros(train_y.shape[0])\n",
    "valid_cost = np.zeros(train_y.shape[0])\n",
    "\n",
    "# Запуск оптимизации математической модели.\n",
    "for i in range(1, train_y.shape[0]):\n",
    "    temp = fit(extend_values(train_norm)[0:i+1, :], train_y[0:i+1])\n",
    "\n",
    "    # Вычисление и сохранение стоимости на тестируемой и валидационной выборке.\n",
    "    train_cost[i] = calc_cost(temp, extend_values(train_norm)[0:i+1, :], train_y[0:i+1])\n",
    "    valid_cost[i] = calc_cost(temp, extend_values(valid_norm), valid_y)\n",
    "\n",
    "# Построение процесса обучения математической модели.\n",
    "draw_process(train_cost, valid_cost)"
   ]
  },
  {
   "cell_type": "markdown",
   "metadata": {},
   "source": [
    "<p lang=\"ru\"><b>Пункт №10:&nbsp;</b>Построение полученной модели совместно с графиком зависимости уровня воды от вытекающего объема воды из дамбы. Данное действие необходимо для визуальной оценки корректности математической модели к обобщению данных. После построения графиков математической модели можно сделать вывод, что модель сильно переобучена, т. к. разделяющая линия охватывает все точки данных, а значение стоимости сильно выросло.</p>"
   ]
  },
  {
   "cell_type": "code",
   "execution_count": 29,
   "metadata": {},
   "outputs": [
    {
     "data": {
      "image/png": "[encoded data removed]",
      "text/plain": [
       "<Figure size 432x288 with 1 Axes>"
      ]
     },
     "metadata": {
      "needs_background": "light"
     },
     "output_type": "display_data"
    }
   ],
   "source": [
    "x = np.linspace(train_x.min()-5, train_x.max()+5, 1000)\n",
    "x_poly = extend_values(scaler.transform(create_feature_map(x)))\n",
    "\n",
    "# Построение разделяющей линии полученной модели.\n",
    "pyplot.plot(x, x_poly.dot(thetas), label='Логистическая регрессия', color='r')\n",
    "\n",
    "# Построение легенды графика.\n",
    "pyplot.legend(loc='best')\n",
    "\n",
    "# Построение точечной диаграммы разброса данных.\n",
    "pyplot.scatter(train_x, train_y)\n",
    "\n",
    "# Настройка координатных осей графика.\n",
    "pyplot.xlabel('Изменение уровня воды в дамбе')\n",
    "pyplot.ylabel('Вытекающий объема воды из дамбы')\n",
    "\n",
    "# Настройка отображения.\n",
    "pyplot.tight_layout()\n",
    "\n",
    "# Отображение графика.\n",
    "pyplot.show()"
   ]
  },
  {
   "cell_type": "code",
   "execution_count": 30,
   "metadata": {},
   "outputs": [
    {
     "name": "stdout",
     "output_type": "stream",
     "text": [
      "Значение стоимости: 53.87387295600625\n"
     ]
    }
   ],
   "source": [
    "# Вычисление значения стоимости обученной математической модели.\n",
    "print('Значение стоимости:', calc_cost(thetas, valid_norm, valid_y))"
   ]
  },
  {
   "cell_type": "markdown",
   "metadata": {},
   "source": [
    "<p lang=\"ru\"><b>Пункт №11:&nbsp;</b>Реализация гребневой регуляризации для линейной регрессии и обучение ее на расширенном наборе признаков исходных данных. Регуляризация подразумевает собой добавление некоторых дополнительных ограничений к условию с целью решить некорректно поставленную задачу или предотвратить переобучение. Например, это могут быть ограничения гладкости результирующей функции или ограничения по норме векторного пространства.</p>"
   ]
  },
  {
   "cell_type": "code",
   "execution_count": 31,
   "metadata": {},
   "outputs": [],
   "source": [
    "def calc_cost(w, x, y, l2=0.0):\n",
    "    # Функция вычисления значения стоимости математической модели.\n",
    "    return (np.sum(np.square(x.dot(w) - y)) + np.sum(l2 * np.square(w[1:]))) / (2 * y.shape[0])"
   ]
  },
  {
   "cell_type": "code",
   "execution_count": 32,
   "metadata": {},
   "outputs": [],
   "source": [
    "def calc_grad(w, x, y, l2=0.0):\n",
    "    reg = l2 * w\n",
    "    reg[0] = 0  # Не штрафуем коэффициент смещения.\n",
    "\n",
    "    # Функция вычисления градиента функции стоимости.\n",
    "    return (x.T.dot(x.dot(w) - y) + reg) / y.shape[0]"
   ]
  },
  {
   "cell_type": "code",
   "execution_count": 33,
   "metadata": {},
   "outputs": [],
   "source": [
    "def fit(x, y, l2=0.0):\n",
    "    # Инициализация начальных параметров модели.\n",
    "    prime = np.zeros(x.shape[1])\n",
    "\n",
    "    # Запуск оптимизации математической модели.\n",
    "    return fmin_cg(f=calc_cost, x0=prime, fprime=calc_grad, args=(x, y, l2), disp=False)"
   ]
  },
  {
   "cell_type": "code",
   "execution_count": 34,
   "metadata": {},
   "outputs": [
    {
     "name": "stdout",
     "output_type": "stream",
     "text": [
      "CPU times: user 6.5 ms, sys: 2.01 ms, total: 8.51 ms\n",
      "Wall time: 6.74 ms\n"
     ]
    }
   ],
   "source": [
    "%%time\n",
    "\n",
    "# Запуск оптимизации математической модели.\n",
    "thetas = fit(train_norm, train_y, l2=1)"
   ]
  },
  {
   "cell_type": "code",
   "execution_count": 35,
   "metadata": {},
   "outputs": [
    {
     "data": {
      "image/png": "[encoded data removed]",
      "text/plain": [
       "<Figure size 432x288 with 1 Axes>"
      ]
     },
     "metadata": {
      "needs_background": "light"
     },
     "output_type": "display_data"
    }
   ],
   "source": [
    "x = np.linspace(train_x.min()-5, train_x.max()+5, 1000)\n",
    "x_poly = extend_values(scaler.transform(create_feature_map(x)))\n",
    "\n",
    "# Построение разделяющей линии полученной модели.\n",
    "pyplot.plot(x, x_poly.dot(thetas), label='Логистическая регрессия', color='r')\n",
    "\n",
    "# Построение легенды графика.\n",
    "pyplot.legend(loc='best')\n",
    "\n",
    "# Построение точечной диаграммы разброса данных.\n",
    "pyplot.scatter(train_x, train_y)\n",
    "\n",
    "# Настройка координатных осей графика.\n",
    "pyplot.xlabel('Изменение уровня воды в дамбе')\n",
    "pyplot.ylabel('Вытекающий объема воды из дамбы')\n",
    "\n",
    "# Настройка отображения.\n",
    "pyplot.tight_layout()\n",
    "\n",
    "# Отображение графика.\n",
    "pyplot.show()"
   ]
  },
  {
   "cell_type": "code",
   "execution_count": 36,
   "metadata": {},
   "outputs": [
    {
     "data": {
      "image/png": "[encoded data removed]",
      "text/plain": [
       "<Figure size 432x288 with 1 Axes>"
      ]
     },
     "metadata": {
      "needs_background": "light"
     },
     "output_type": "display_data"
    }
   ],
   "source": [
    "# Создание контейнеров для накопления значений стоимостей.\n",
    "train_cost = np.zeros(train_y.shape[0])\n",
    "valid_cost = np.zeros(train_y.shape[0])\n",
    "\n",
    "# Запуск оптимизации математической модели.\n",
    "for i in range(1, train_y.shape[0]):\n",
    "    temp = fit(extend_values(train_norm)[0:i+1, :], train_y[0:i+1], l2=1.0)\n",
    "\n",
    "    # Вычисление и сохранение стоимости на тестируемой и валидационной выборке.\n",
    "    train_cost[i] = calc_cost(temp, extend_values(train_norm)[0:i+1, :], train_y[0:i+1])\n",
    "    valid_cost[i] = calc_cost(temp, extend_values(valid_norm), valid_y)\n",
    "\n",
    "# Построение процесса обучения математической модели.\n",
    "draw_process(train_cost, valid_cost)"
   ]
  },
  {
   "cell_type": "code",
   "execution_count": 37,
   "metadata": {},
   "outputs": [
    {
     "name": "stdout",
     "output_type": "stream",
     "text": [
      "Значение стоимости: 4.260631693399616\n"
     ]
    }
   ],
   "source": [
    "# Вычисление значения стоимости обученной математической модели.\n",
    "print('Значение стоимости:', calc_cost(thetas, valid_norm, valid_y))"
   ]
  },
  {
   "cell_type": "markdown",
   "metadata": {},
   "source": [
    "<p lang=\"ru\"><b>Пункт №12:&nbsp;</b>Сравнение разнообразных коэффициентов регуляризации для обучения математической модели. Параметр регуляризации уменьшает переопределение, что уменьшает дисперсию ваших оценочных параметров регрессии, однако он делает это за счет добавления смещения к исходной оценке. Увеличение лямбда приводит к меньшему переосмыслению признаков, но также к большей предвзятости.</p>"
   ]
  },
  {
   "cell_type": "code",
   "execution_count": 38,
   "metadata": {},
   "outputs": [
    {
     "data": {
      "image/png": "[encoded data removed]",
      "text/plain": [
       "<Figure size 432x288 with 1 Axes>"
      ]
     },
     "metadata": {
      "needs_background": "light"
     },
     "output_type": "display_data"
    }
   ],
   "source": [
    "# Доступные коэффициенты регуляризации для сравнения.\n",
    "l2_values = [0, 0.001, 0.003, 0.01, 0.03, 0.1, 0.3, 1, 3, 10, 20, 30, 40, 50]\n",
    "\n",
    "valid_error = [\n",
    "    # Запуск оптимизации математической модели и вычисление значения стоимости.\n",
    "    calc_cost(fit(train_norm, train_y, l2), valid_norm, valid_y)\n",
    "    for l2 in l2_values\n",
    "]\n",
    "\n",
    "# Построение графика стоимостей модели при различных значениях регуляризации.\n",
    "pyplot.plot(l2_values, valid_error, marker='o')\n",
    "\n",
    "# Настройка координатных осей графика.\n",
    "pyplot.xlabel('Коэффициент регуляризации')\n",
    "pyplot.ylabel('Значение стоимости модели')\n",
    "\n",
    "# Настройка отображения.\n",
    "pyplot.tight_layout()\n",
    "\n",
    "# Отображение графика.\n",
    "pyplot.show()"
   ]
  }
 ],
 "metadata": {
  "kernelspec": {
   "display_name": "Python 3",
   "language": "python",
   "name": "python3"
  },
  "language_info": {
   "codemirror_mode": {
    "name": "ipython",
    "version": 3
   },
   "file_extension": ".py",
   "mimetype": "text/x-python",
   "name": "python",
   "nbconvert_exporter": "python",
   "pygments_lexer": "ipython3",
   "version": "3.7.5"
  }
 },
 "nbformat": 4,
 "nbformat_minor": 2
}
