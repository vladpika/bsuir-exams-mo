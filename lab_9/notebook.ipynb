{
 "cells": [
  {
   "cell_type": "code",
   "execution_count": 1,
   "metadata": {
    "scrolled": true
   },
   "outputs": [
    {
     "data": {
      "application/javascript": [
       "$(document).ready(() => {\n",
       "    // Удаление данного блока кода с конечного результата.\n",
       "    $('div.code_cell').first().css('display', 'none');\n",
       "\n",
       "    // Включение автоматического переноса слов в параграфе.\n",
       "    $('div.text_cell p').css('hyphens', 'auto');\n",
       "\n",
       "    // Включение растягивания текста на всю доступную длину.\n",
       "    $('div.text_cell p').css('text-align', 'justify');\n",
       "});\n"
      ],
      "text/plain": [
       "<IPython.core.display.Javascript object>"
      ]
     },
     "metadata": {},
     "output_type": "display_data"
    }
   ],
   "source": [
    "%%javascript\n",
    "$(document).ready(() => {\n",
    "    // Удаление данного блока кода с конечного результата.\n",
    "    $('div.code_cell').first().css('display', 'none');\n",
    "\n",
    "    // Включение автоматического переноса слов в параграфе.\n",
    "    $('div.text_cell p').css('hyphens', 'auto');\n",
    "\n",
    "    // Включение растягивания текста на всю доступную длину.\n",
    "    $('div.text_cell p').css('text-align', 'justify');\n",
    "});"
   ]
  },
  {
   "cell_type": "markdown",
   "metadata": {},
   "source": [
    "<h3><b>Лабораторная работа №9: Рекомендательные системы</b></h3>"
   ]
  },
  {
   "cell_type": "markdown",
   "metadata": {},
   "source": [
    "<p lang=\"ru\">Рекомендательные системы — программы, которые пытаются предсказать, какие объекты будут интересны пользователю, имея определенную информацию о его профиле. Две основные стратегии создания рекомендательных систем — фильтрация на основе содержания и коллаборативная фильтрация. При фильтрации на основе содержания создаются профили пользователей и объектов, профили пользователей могут включать демографическую информацию или ответы на определённый набор вопросов, профили объектов могут включать названия жанров, имена актёров, имена исполнителей и другую атрибутивную информацию в зависимости от типа объекта. При коллаборативной фильтрации используется информация о поведении пользователей в прошлом — например, информация о покупках или оценках. В этом случае не имеет значения, с какими типами объектов ведётся работа, но при этом могут учитываться неявные характеристики, которые сложно было бы учесть при создании профиля.</p>"
   ]
  },
  {
   "cell_type": "code",
   "execution_count": 2,
   "metadata": {
    "scrolled": true
   },
   "outputs": [
    {
     "data": {
      "application/javascript": [
       "IPython.notebook.set_autosave_interval(300000)"
      ]
     },
     "metadata": {},
     "output_type": "display_data"
    },
    {
     "name": "stdout",
     "output_type": "stream",
     "text": [
      "Autosaving every 300 seconds\n"
     ]
    }
   ],
   "source": [
    "%autosave 300"
   ]
  },
  {
   "cell_type": "code",
   "execution_count": 3,
   "metadata": {},
   "outputs": [],
   "source": [
    "import warnings\n",
    "\n",
    "# Игнорирование некоторых оповещающих сообщений библиотек.\n",
    "warnings.filterwarnings('ignore', category=FutureWarning)"
   ]
  },
  {
   "cell_type": "code",
   "execution_count": 4,
   "metadata": {
    "scrolled": true
   },
   "outputs": [],
   "source": [
    "import numpy as np\n",
    "import pandas as pd"
   ]
  },
  {
   "cell_type": "code",
   "execution_count": 5,
   "metadata": {
    "scrolled": true
   },
   "outputs": [],
   "source": [
    "# Импортирование функции для чтения MATLAB файлов.\n",
    "from scipy.io import loadmat"
   ]
  },
  {
   "cell_type": "code",
   "execution_count": 6,
   "metadata": {
    "scrolled": true
   },
   "outputs": [],
   "source": [
    "# Импортирование функции индикатора выполнения.\n",
    "from tqdm import tqdm_notebook"
   ]
  },
  {
   "cell_type": "code",
   "execution_count": 7,
   "metadata": {},
   "outputs": [],
   "source": [
    "# Импортирование библиотеки для работы с графиками.\n",
    "from matplotlib import pyplot\n",
    "%matplotlib inline"
   ]
  },
  {
   "cell_type": "code",
   "execution_count": 8,
   "metadata": {
    "scrolled": true
   },
   "outputs": [],
   "source": [
    "# Установка начального значения для генератора случайных чисел.\n",
    "# Данное действие требуется для воспроизведения результатов опыта.\n",
    "np.random.seed(0)"
   ]
  },
  {
   "cell_type": "markdown",
   "metadata": {},
   "source": [
    "<p lang=\"ru\"><b>Пункт №1:&nbsp;</b>Загрузка первого предоставленного набора данных <tt>ex9movies.mat</tt> при помощи внешней библиотеки scipy. Текущий набор данных содержит информацию о пользователях и рейтингах к определенным фильмам.</p>"
   ]
  },
  {
   "cell_type": "code",
   "execution_count": 9,
   "metadata": {
    "scrolled": true
   },
   "outputs": [],
   "source": [
    "data_x = loadmat('./datasets/ex9movies.mat')['Y']"
   ]
  },
  {
   "cell_type": "code",
   "execution_count": 10,
   "metadata": {},
   "outputs": [
    {
     "data": {
      "image/png": "[encoded data removed]",
      "text/plain": [
       "<Figure size 1008x288 with 1 Axes>"
      ]
     },
     "metadata": {
      "needs_background": "light"
     },
     "output_type": "display_data"
    }
   ],
   "source": [
    "# Создание совместного полотна для графиков.\n",
    "pyplot.figure(figsize=(14, 4))\n",
    "\n",
    "# Построение изображения матрицы рейтингов.\n",
    "pyplot.imshow(data_x.T, cmap='gray')\n",
    "\n",
    "# Настройка координатных осей графика.\n",
    "pyplot.xlabel('Значения фильмов')\n",
    "pyplot.ylabel('Значения пользователей')\n",
    "\n",
    "# Настройка отображения.\n",
    "pyplot.tight_layout()\n",
    "\n",
    "# Отображение графика.\n",
    "pyplot.show()"
   ]
  },
  {
   "cell_type": "code",
   "execution_count": 11,
   "metadata": {
    "scrolled": true
   },
   "outputs": [],
   "source": [
    "# Вычисление количества пользователей и фильмов.\n",
    "n_items = data_x.shape[0]\n",
    "n_users = data_x.shape[1]"
   ]
  },
  {
   "cell_type": "markdown",
   "metadata": {},
   "source": [
    "<p lang=\"ru\"><b>Пункт №2:&nbsp;</b>Загрузка второго предоставленного набора данных <tt>movie_ids.csv</tt> при помощи внешней библиотеки pandas. Текущий набор данных содержит информацию о нескольких тысячах фильмах, снятых за определенный промежуток времени.</p>"
   ]
  },
  {
   "cell_type": "code",
   "execution_count": 12,
   "metadata": {},
   "outputs": [],
   "source": [
    "movie_data = pd.read_csv('./datasets/movie_ids.csv', sep=';')"
   ]
  },
  {
   "cell_type": "markdown",
   "metadata": {},
   "source": [
    "<p lang=\"ru\"><b>Пункт №3:&nbsp;</b>Реализация функции вычисления косинусного сходства между несколькими векторами. Косинусное сходство — это мера сходства между двумя векторами предгильбертового пространства, которая используется для измерения косинуса угла между ними. Одна из причин популярности косинуснуго сходства состоит в том, что оно эффективно в качестве оценочной меры, особенно для разреженных векторов, так как необходимо учитывать только ненулевые измерения.</p>"
   ]
  },
  {
   "cell_type": "code",
   "execution_count": 13,
   "metadata": {},
   "outputs": [],
   "source": [
    "def calc_cosine_similarity(data, index, n_item=15):\n",
    "    # Вычисление нормы исходного вектора.\n",
    "    norms = np.linalg.norm(data, axis=1)\n",
    "\n",
    "    # Вычисление косинусных сходств между рассматриваемыми фильмами.\n",
    "    scores = data[index].dot(data.T) / (norms[index] * norms)\n",
    "\n",
    "    # Вычисление индексов фильмов в векторе всех фильмов.\n",
    "    return np.argsort(scores)[::-1][:n_item]"
   ]
  },
  {
   "cell_type": "code",
   "execution_count": 14,
   "metadata": {},
   "outputs": [],
   "source": [
    "def print_similar_movies(vector, index):\n",
    "    # Вычисление индексов фильмов в векторе фильмов.\n",
    "    indexes = calc_cosine_similarity(vector, index)\n",
    "\n",
    "    # Вывод похожих фильмов для рассматриваемого.\n",
    "    for movie_index in indexes+1:\n",
    "        print(movie_data[movie_data['title_id'] == movie_index]['title'].values[0])"
   ]
  },
  {
   "cell_type": "markdown",
   "metadata": {},
   "source": [
    "<p lang=\"ru\"><b>Пункт №4:&nbsp;</b>Реализация алгоритма факторизации исходной матрицы рейтингов фильмов для реализации рекомендаций. Методы факторизации матрицы являются более эффективными в рекомендательных системах, поскольку они позволяют обнаруживать скрытые особенности, лежащие в основе взаимодействия между двумя различными типами объектов. Одним из очевидных применений данного алгоритма является прогнозирование рейтингов предметов в совместной фильтрации.</p>"
   ]
  },
  {
   "cell_type": "code",
   "execution_count": 15,
   "metadata": {},
   "outputs": [],
   "source": [
    "# Количество итераций обучения.\n",
    "n_epochs = 100\n",
    "\n",
    "# Количество факторов.\n",
    "n_factors = 100\n",
    "\n",
    "# Фильм для поиска.\n",
    "movie_id = 0\n",
    "\n",
    "# Скорость обучения алгоритма.\n",
    "learning_rate = 0.001\n",
    "\n",
    "# Значение регуляризации.\n",
    "regularization = 0.4"
   ]
  },
  {
   "cell_type": "code",
   "execution_count": 16,
   "metadata": {},
   "outputs": [],
   "source": [
    "# Вычисление среднего значения рейтингов.\n",
    "mean = np.mean(data_x[data_x > 0])"
   ]
  },
  {
   "cell_type": "code",
   "execution_count": 17,
   "metadata": {},
   "outputs": [],
   "source": [
    "# Инициализация значений смещения.\n",
    "bi = np.zeros(n_items)\n",
    "bu = np.zeros(n_users)"
   ]
  },
  {
   "cell_type": "code",
   "execution_count": 18,
   "metadata": {},
   "outputs": [],
   "source": [
    "# Инициализация значений скрытых факторов пользователей и предметов.\n",
    "qi = np.random.normal(scale=1 / n_factors, size=(n_items, n_factors))\n",
    "pu = np.random.normal(scale=1 / n_factors, size=(n_users, n_factors))"
   ]
  },
  {
   "cell_type": "code",
   "execution_count": 19,
   "metadata": {},
   "outputs": [
    {
     "name": "stdout",
     "output_type": "stream",
     "text": [
      "CPU times: user 5.4 s, sys: 86.7 ms, total: 5.49 s\n",
      "Wall time: 7.16 s\n"
     ]
    }
   ],
   "source": [
    "%%time\n",
    "\n",
    "# Создание тренировочной выборки.\n",
    "dataset = [\n",
    "    (iid, uid, data_x[iid, uid])\n",
    "    for iid in range(n_items)\n",
    "    for uid in range(n_users)\n",
    "\n",
    "    # Фильтрация ненулевых значений.\n",
    "    if data_x[iid, uid] > 0\n",
    "]"
   ]
  },
  {
   "cell_type": "code",
   "execution_count": 20,
   "metadata": {},
   "outputs": [
    {
     "data": {
      "application/vnd.jupyter.widget-view+json": {
       "model_id": "ca925bc6391d4d138849272faace619f",
       "version_major": 2,
       "version_minor": 0
      },
      "text/plain": [
       "HBox(children=(IntProgress(value=0), HTML(value='')))"
      ]
     },
     "metadata": {},
     "output_type": "display_data"
    },
    {
     "name": "stdout",
     "output_type": "stream",
     "text": [
      "\n",
      "CPU times: user 4min 55s, sys: 12.2 s, total: 5min 8s\n",
      "Wall time: 5min 5s\n"
     ]
    }
   ],
   "source": [
    "%%time\n",
    "\n",
    "for _ in tqdm_notebook(range(n_epochs)):\n",
    "    np.random.shuffle(dataset)\n",
    "\n",
    "    for iid, uid, score in dataset:\n",
    "        # Вычисление значения стоимости математической модели.\n",
    "        err = score - (mean + bu[uid] + bi[iid] + pu[uid].dot(qi[iid].T))\n",
    "\n",
    "        # Обновление значений смещения математической модели.\n",
    "        bi[iid] += learning_rate * (err - regularization * bi[iid])\n",
    "        bu[uid] += learning_rate * (err - regularization * bu[uid])\n",
    "\n",
    "        # Обновление значений факторов математической модели.\n",
    "        pu[uid] += learning_rate * (err * qi[iid] - regularization * pu[uid])\n",
    "        qi[iid] += learning_rate * (err * pu[uid] - regularization * qi[iid])"
   ]
  },
  {
   "cell_type": "code",
   "execution_count": 21,
   "metadata": {},
   "outputs": [
    {
     "name": "stdout",
     "output_type": "stream",
     "text": [
      "Toy Story (1995)\n",
      "Street Fighter (1994)\n",
      "Wes Craven's New Nightmare (1994)\n",
      "Ace Ventura: Pet Detective (1994)\n",
      "Legends of the Fall (1994)\n",
      "Bogus (1996)\n",
      "Mouse Hunt (1997)\n",
      "Shopping (1994)\n",
      "Aladdin (1992)\n",
      "187 (1997)\n",
      "Star Trek IV: The Voyage Home (1986)\n",
      "Sabrina (1995)\n",
      "Dr. Strangelove or: How I Learned to Stop Worrying and Love the Bomb (1963)\n",
      "Caught (1996)\n",
      "Vampire in Brooklyn (1995)\n"
     ]
    }
   ],
   "source": [
    "# Вычисление нескольких похожих фильмов.\n",
    "print_similar_movies(qi, movie_id)"
   ]
  },
  {
   "cell_type": "markdown",
   "metadata": {},
   "source": [
    "<p lang=\"ru\"><b>Пункт №5:&nbsp;</b>Реализация алгоритма сингулярного разложения исходной матрицы рейтингов фильмов для реализации рекомендаций. Сингулярное разложение является удобным методом при работе с матрицами. Данное разложение показывает геометрическую структуру матрицы и позволяет наглядно представить имеющиеся данные. Сингулярное разложение используется при решении самых разных задач — от приближения методом наименьших квадратов и решения систем уравнений до сжатия и распознавания изображений. При сравнении результатов с алгоритмом матричной факторизации можно сделать вывод, что сингулярное разложение для рекомендаций работает немного точнее для поиска похожих предметов, так как матричная факторизация сильно зависит от значений гиперпараметров обучения.</p>"
   ]
  },
  {
   "cell_type": "code",
   "execution_count": 22,
   "metadata": {},
   "outputs": [],
   "source": [
    "# Количество факторов.\n",
    "n_factors = 50"
   ]
  },
  {
   "cell_type": "code",
   "execution_count": 23,
   "metadata": {},
   "outputs": [],
   "source": [
    "# Нормализация рассматриваемых данных.\n",
    "data_norm = data_x - data_x.mean(axis=1)[:, None]\n",
    "\n",
    "# Подготовка данных к сингулярному разложению матрицы.\n",
    "data_x = data_norm.T / np.sqrt(data_x.shape[0] - 1)\n",
    "\n",
    "# Вычисление сингулярного разложения матрицы.\n",
    "_, _, v = np.linalg.svd(data_x)"
   ]
  },
  {
   "cell_type": "code",
   "execution_count": 24,
   "metadata": {},
   "outputs": [
    {
     "name": "stdout",
     "output_type": "stream",
     "text": [
      "Toy Story (1995)\n",
      "Hercules (1997)\n",
      "Jerry Maguire (1996)\n",
      "The Hunchback of Notre Dame (1996)\n",
      "Dumbo (1941)\n",
      "Matilda (1996)\n",
      "Aladdin (1992)\n",
      "A Close Shave (1995)\n",
      "Beauty and the Beast (1991)\n",
      "I Don't Want to Talk About It (De eso no se habla) (1993)\n",
      "Beavis and Butt-head Do America (1996)\n",
      "Willy Wonka and the Chocolate Factory (1971)\n",
      "Apollo 13 (1995)\n",
      "Aladdin and the King of Thieves (1996)\n",
      "The Rock (1996)\n"
     ]
    }
   ],
   "source": [
    "# Вычисление нескольких похожих фильмов.\n",
    "print_similar_movies(v.T[:, :n_factors], movie_id)"
   ]
  }
 ],
 "metadata": {
  "kernelspec": {
   "display_name": "Python 3",
   "language": "python",
   "name": "python3"
  },
  "language_info": {
   "codemirror_mode": {
    "name": "ipython",
    "version": 3
   },
   "file_extension": ".py",
   "mimetype": "text/x-python",
   "name": "python",
   "nbconvert_exporter": "python",
   "pygments_lexer": "ipython3",
   "version": "3.7.5"
  }
 },
 "nbformat": 4,
 "nbformat_minor": 2
}
