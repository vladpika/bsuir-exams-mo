{
 "cells": [
  {
   "cell_type": "code",
   "execution_count": 1,
   "metadata": {},
   "outputs": [
    {
     "data": {
      "application/javascript": [
       "$(document).ready(() => {\n",
       "    // Удаление данного блока кода с конечного результата.\n",
       "    $('div.code_cell').first().css('display', 'none');\n",
       "\n",
       "    // Включение автоматического переноса слов в параграфе.\n",
       "    $('div.text_cell p').css('hyphens', 'auto');\n",
       "\n",
       "    // Включение растягивания текста на всю доступную длину.\n",
       "    $('div.text_cell p').css('text-align', 'justify');\n",
       "});\n"
      ],
      "text/plain": [
       "<IPython.core.display.Javascript object>"
      ]
     },
     "metadata": {},
     "output_type": "display_data"
    }
   ],
   "source": [
    "%%javascript\n",
    "$(document).ready(() => {\n",
    "    // Удаление данного блока кода с конечного результата.\n",
    "    $('div.code_cell').first().css('display', 'none');\n",
    "\n",
    "    // Включение автоматического переноса слов в параграфе.\n",
    "    $('div.text_cell p').css('hyphens', 'auto');\n",
    "\n",
    "    // Включение растягивания текста на всю доступную длину.\n",
    "    $('div.text_cell p').css('text-align', 'justify');\n",
    "});"
   ]
  },
  {
   "cell_type": "markdown",
   "metadata": {},
   "source": [
    "<h3><b>Лабораторная работа №8: Выявление аномалий</b></h3>"
   ]
  },
  {
   "cell_type": "markdown",
   "metadata": {},
   "source": [
    "<p lang=\"ru\">Выявление аномалий — это опознавание во время интеллектуального анализа данных редких значений, событий или наблюдений, которые вызывают подозрения ввиду существенного отличия от большей части данных в рассматриваемой выборке. Обычно аномальные данные превращаются в некоторый вид проблемы, такой как мошенничество в банке, структурный дефект, медицинские проблемы или ошибки в тексте. Аномалии также упоминаются как выбросы, шум в данных, отклонения или исключения.</p>"
   ]
  },
  {
   "cell_type": "code",
   "execution_count": 2,
   "metadata": {},
   "outputs": [
    {
     "data": {
      "application/javascript": [
       "IPython.notebook.set_autosave_interval(300000)"
      ]
     },
     "metadata": {},
     "output_type": "display_data"
    },
    {
     "name": "stdout",
     "output_type": "stream",
     "text": [
      "Autosaving every 300 seconds\n"
     ]
    }
   ],
   "source": [
    "%autosave 300"
   ]
  },
  {
   "cell_type": "code",
   "execution_count": 3,
   "metadata": {},
   "outputs": [],
   "source": [
    "import warnings\n",
    "\n",
    "# Игнорирование некоторых оповещающих сообщений библиотек.\n",
    "warnings.filterwarnings('ignore', category=FutureWarning)"
   ]
  },
  {
   "cell_type": "code",
   "execution_count": 4,
   "metadata": {},
   "outputs": [],
   "source": [
    "import numpy as np"
   ]
  },
  {
   "cell_type": "code",
   "execution_count": 5,
   "metadata": {},
   "outputs": [],
   "source": [
    "# Импортирование функции для чтения MATLAB файлов.\n",
    "from scipy.io import loadmat"
   ]
  },
  {
   "cell_type": "code",
   "execution_count": 6,
   "metadata": {},
   "outputs": [],
   "source": [
    "# Импортирование библиотеки для работы с графиками.\n",
    "from matplotlib import pyplot\n",
    "%matplotlib inline"
   ]
  },
  {
   "cell_type": "code",
   "execution_count": 7,
   "metadata": {},
   "outputs": [],
   "source": [
    "# Установка начального значения для генератора случайных чисел.\n",
    "# Данное действие требуется для воспроизведения результатов опыта.\n",
    "np.random.seed(0)"
   ]
  },
  {
   "cell_type": "markdown",
   "metadata": {},
   "source": [
    "<p lang=\"ru\"><b>Пункт №1:&nbsp;</b>Загрузка первого предоставленного набора данных <tt>ex8data1.mat</tt> при помощи внешней библиотеки scipy. Текущий набор данных содержит информацию о задержке и пропускной способности серверов. Набор разделен на обучающую выборку, которая не содержит меток классов, а также валидационную, на которой необходимо оценить качество алгоритма выявления аномалий.</p>"
   ]
  },
  {
   "cell_type": "code",
   "execution_count": 8,
   "metadata": {},
   "outputs": [],
   "source": [
    "data = loadmat('./datasets/ex8data1.mat')"
   ]
  },
  {
   "cell_type": "code",
   "execution_count": 9,
   "metadata": {},
   "outputs": [],
   "source": [
    "# Создание тренировочной выборки.\n",
    "data_x = np.array(data['X'])\n",
    "\n",
    "# Создание валидационной выборки.\n",
    "valid_x = np.array(data['Xval'])\n",
    "valid_y = np.array(data['yval']).ravel()"
   ]
  },
  {
   "cell_type": "markdown",
   "metadata": {},
   "source": [
    "<p lang=\"ru\"><b>Пункт №2:&nbsp;</b>Построение графика зависимости задержки серверов от его пропускной способности. Всякую зависимость между двумя типами данных хорошо показывает диаграмма разброса значений. Ко всему прочему, с помощью этой диаграммы можно определить корреляцию между каким-либо параметром качества и влияющим на него фактором.</p>"
   ]
  },
  {
   "cell_type": "code",
   "execution_count": 10,
   "metadata": {},
   "outputs": [
    {
     "data": {
      "image/png": "[encoded data removed]",
      "text/plain": [
       "<Figure size 432x288 with 1 Axes>"
      ]
     },
     "metadata": {
      "needs_background": "light"
     },
     "output_type": "display_data"
    }
   ],
   "source": [
    "# Построение точечной диаграммы разброса данных.\n",
    "pyplot.scatter(data_x[:, 0], data_x[:, 1])\n",
    "\n",
    "# Настройка координатных осей графика.\n",
    "pyplot.xlabel('Пропускная способность сервера')\n",
    "pyplot.ylabel('Значение задержки сервера')\n",
    "\n",
    "# Настройка отображения.\n",
    "pyplot.tight_layout()\n",
    "\n",
    "# Отображение графика.\n",
    "pyplot.show()"
   ]
  },
  {
   "cell_type": "markdown",
   "metadata": {},
   "source": [
    "<p lang=\"ru\"><b>Пункт №3:&nbsp;</b>Вычисление основных числовых характеристик нормального закона расспределения. Каждая случайная величина полностью определяется своей функцией распределения. В то же время при решении практических задач достаточно знать несколько числовых параметров, которые позволяют представить основные особенности случайной величины в сжатой форме. К таким величинам как раз и относятся математическое ожидание и ковариационная матрица случайной величины.</p>"
   ]
  },
  {
   "cell_type": "code",
   "execution_count": 11,
   "metadata": {},
   "outputs": [],
   "source": [
    "def estimate_gaussian(x):\n",
    "    # Вычисление значения мат. ожидания.\n",
    "    mu = np.mean(x, axis=0)\n",
    "\n",
    "    # Вычисление ковариационной матрицы.\n",
    "    cov = np.cov(x.T, ddof=0)\n",
    "\n",
    "    return mu, cov"
   ]
  },
  {
   "cell_type": "code",
   "execution_count": 12,
   "metadata": {},
   "outputs": [],
   "source": [
    "# Вычисление основных числовых характеристик.\n",
    "mean, sigma = estimate_gaussian(data_x)"
   ]
  },
  {
   "cell_type": "markdown",
   "metadata": {},
   "source": [
    "<p lang=\"ru\"><b>Пункт №4:&nbsp;</b>Реализация функции вычисления плотности вероятности случайной величины для многомерного нормального закона расспределения. Плотность вероятности — один из способов задания распределения случайной величины. Во многих практических приложениях понятия плотность вероятности и плотность случайной величины или функция распределения вероятностей фактически синонимизируются и под ними подразумевается вещественная функция, характеризующая сравнительную вероятность реализации тех или иных значений случайной переменной.</p>"
   ]
  },
  {
   "cell_type": "code",
   "execution_count": 13,
   "metadata": {},
   "outputs": [],
   "source": [
    "def calc_density(x, mu, cov):\n",
    "    # Нормировка данных.\n",
    "    x = x - mu\n",
    "\n",
    "    # Вычисление основания многомерного нормального закона распределения.\n",
    "    base = 1 / (np.power(2 * np.pi, mu.shape[0] / 2) * np.sqrt(np.linalg.det(cov)))\n",
    "\n",
    "    # Вычисление степени многомерного нормального закона распределения.\n",
    "    power = np.exp(-0.5 * np.sum(x.dot(np.linalg.inv(cov)) * x, axis=1))\n",
    "\n",
    "    # Вычисление функции плотности вероятности.\n",
    "    return base * power"
   ]
  },
  {
   "cell_type": "markdown",
   "metadata": {},
   "source": [
    "<p lang=\"ru\"><b>Пункт №5:&nbsp;</b>Построение графика зависимости задержки серверов от его пропускной способности и контуры вероятностей значений. Всякую зависимость между двумя типами данных хорошо показывает диаграмма разброса значений. Ко всему прочему, с помощью этой диаграммы можно определить корреляцию между каким-либо параметром качества и влияющим на него фактором. Данное действие необходимо для визуальной оценки аномальных значений.</p>"
   ]
  },
  {
   "cell_type": "code",
   "execution_count": 14,
   "metadata": {},
   "outputs": [
    {
     "data": {
      "image/png": "[encoded data removed]",
      "text/plain": [
       "<Figure size 432x288 with 1 Axes>"
      ]
     },
     "metadata": {
      "needs_background": "light"
     },
     "output_type": "display_data"
    }
   ],
   "source": [
    "# Настройка координатных осей графика.\n",
    "pyplot.xlabel('Пропускная способность сервера')\n",
    "pyplot.ylabel('Значение задержки сервера')\n",
    "\n",
    "# Генерация прямоугольной сетки для построения линий.\n",
    "x, y = np.meshgrid(np.arange(0, 30, 0.5),\n",
    "                   np.arange(0, 30, 0.5))\n",
    "\n",
    "# Подготовка значений для вычисления вероятности.\n",
    "xy = np.transpose([x.ravel(), y.ravel()])\n",
    "\n",
    "# Вычисление результатов для рассматриваемых значений.\n",
    "out = calc_density(xy, mean, sigma).reshape(x.shape)\n",
    "\n",
    "# Построение точечной диаграммы разброса данных.\n",
    "pyplot.scatter(data_x[:, 0], data_x[:, 1])\n",
    "\n",
    "# Построение разделяющей линии нормального распределения.\n",
    "pyplot.contour(x, y, out, levels=[1e-12, 1e-9, 1e-6, 1e-3])\n",
    "\n",
    "# Настройка отображения.\n",
    "pyplot.tight_layout()\n",
    "\n",
    "# Отображение графика.\n",
    "pyplot.show()"
   ]
  },
  {
   "cell_type": "markdown",
   "metadata": {},
   "source": [
    "<p lang=\"ru\"><b>Пункт №6:&nbsp;</b>Вычисление оптимального значения порога обнаружения аномалий в наборе данных <tt>ex8data1.mat</tt> с помощью нормального закона распределения. Для такого подбора используется алгоритм исчерпывающего поиска по указанным значениям параметра. Данный алгоритм перебирает все возможные значения порога и выбирает тот порог, при котором достигается наивысшая точность алгоритма.</p>"
   ]
  },
  {
   "cell_type": "code",
   "execution_count": 15,
   "metadata": {},
   "outputs": [],
   "source": [
    "def calc_threshold(y, prob):\n",
    "    # Контрольный порог.\n",
    "    best_threshold = 0\n",
    "\n",
    "    # Контрольная F1-мера.\n",
    "    best_f1 = 0\n",
    "\n",
    "    # Запуск исчерпывающего поиска по указанным значениям шагов.\n",
    "    for threshold in np.linspace(prob.max(), prob.min(), 30000):\n",
    "        res = prob < threshold\n",
    "\n",
    "        # Вычисление значений матрицы ошибок.\n",
    "        tp = np.sum((y == 1) & (res == 1))\n",
    "        fp = np.sum((y == 0) & (res == 1))\n",
    "        fn = np.sum((y == 1) & (res == 0))\n",
    "\n",
    "        # Контроль нулевых значений для устранения ошибок.\n",
    "        if tp + fp == 0 or tp + fn == 0:\n",
    "            continue\n",
    "\n",
    "        # Вычисление значений точности и полноты.\n",
    "        precision = tp / (tp + fp)\n",
    "        recall = tp / (tp + fn)\n",
    "\n",
    "        # Вычисление значения F1-меры.\n",
    "        f1 = 2 * precision * recall / (precision + recall)\n",
    "\n",
    "        # Обновление контрольных значений.\n",
    "        if f1 > best_f1:\n",
    "            best_f1 = f1\n",
    "            best_threshold = threshold\n",
    "\n",
    "    return best_threshold, best_f1"
   ]
  },
  {
   "cell_type": "code",
   "execution_count": 16,
   "metadata": {},
   "outputs": [],
   "source": [
    "# Вычисление плотности вероятности рассматриваемых данных.\n",
    "prob_value = calc_density(valid_x, mean, sigma)"
   ]
  },
  {
   "cell_type": "code",
   "execution_count": 17,
   "metadata": {},
   "outputs": [],
   "source": [
    "# Вычисление наилучшего порога для контрольного набора данных.\n",
    "threshold_value, f1_value = calc_threshold(valid_y, prob_value)"
   ]
  },
  {
   "cell_type": "code",
   "execution_count": 18,
   "metadata": {},
   "outputs": [
    {
     "name": "stdout",
     "output_type": "stream",
     "text": [
      "Значение предела: 0.000296158349739159\n",
      "Значение F1-меры: 0.8750000000000001\n"
     ]
    }
   ],
   "source": [
    "print('Значение предела:', threshold_value)\n",
    "print('Значение F1-меры:', f1_value)"
   ]
  },
  {
   "cell_type": "markdown",
   "metadata": {},
   "source": [
    "<p lang=\"ru\"><b>Пункт №7:&nbsp;</b>Построение графика зависимости задержки серверов от его пропускной способности и выделение аномальных значений. Всякую зависимость между двумя типами данных хорошо показывает диаграмма разброса значений. Ко всему прочему, с помощью этой диаграммы можно определить корреляцию между каким-либо параметром качества и влияющим на него фактором. Данное действие необходимо для визуальной оценки корректности работы алгоритма.</p>"
   ]
  },
  {
   "cell_type": "code",
   "execution_count": 19,
   "metadata": {},
   "outputs": [],
   "source": [
    "# Вычисление результатов для контрольной выборки.\n",
    "out = calc_density(data_x, mean, sigma) < threshold_value"
   ]
  },
  {
   "cell_type": "code",
   "execution_count": 20,
   "metadata": {},
   "outputs": [
    {
     "data": {
      "image/png": "[encoded data removed]",
      "text/plain": [
       "<Figure size 432x288 with 1 Axes>"
      ]
     },
     "metadata": {
      "needs_background": "light"
     },
     "output_type": "display_data"
    }
   ],
   "source": [
    "# Построение точечной диаграммы разброса данных.\n",
    "pyplot.scatter(data_x[:, 0], data_x[:, 1])\n",
    "\n",
    "# Выделение аномальных значений на графике.\n",
    "pyplot.scatter(data_x[out, 0],\n",
    "               data_x[out, 1],\n",
    "               edgecolors='r',\n",
    "               s=200,\n",
    "               facecolors='none')\n",
    "\n",
    "# Настройка координатных осей графика.\n",
    "pyplot.xlabel('Пропускная способность сервера')\n",
    "pyplot.ylabel('Значение задержки сервера')\n",
    "\n",
    "# Настройка отображения.\n",
    "pyplot.tight_layout()\n",
    "\n",
    "# Отображение графика.\n",
    "pyplot.show()"
   ]
  },
  {
   "cell_type": "markdown",
   "metadata": {},
   "source": [
    "***"
   ]
  },
  {
   "cell_type": "markdown",
   "metadata": {},
   "source": [
    "<p lang=\"ru\"><b>Пункт №8:&nbsp;</b>Загрузка второго предоставленного набора данных <tt>ex8data2.mat</tt> при помощи внешней библиотеки scipy. Текущий набор данных содержит информацию о 11-мерных переменных, среди которых необходимо выделить аномальные. Набор разделен на обучающую выборку, которая не содержит меток классов, а также валидационную, на которой необходимо оценить качество алгоритма выявления аномалий.</p>"
   ]
  },
  {
   "cell_type": "code",
   "execution_count": 21,
   "metadata": {},
   "outputs": [],
   "source": [
    "data = loadmat('./datasets/ex8data2.mat')"
   ]
  },
  {
   "cell_type": "code",
   "execution_count": 22,
   "metadata": {},
   "outputs": [],
   "source": [
    "# Создание тренировочной выборки.\n",
    "data_x = np.array(data['X'])\n",
    "\n",
    "# Создание валидационной выборки.\n",
    "valid_x = np.array(data['Xval'])\n",
    "valid_y = np.array(data['yval']).ravel()"
   ]
  },
  {
   "cell_type": "markdown",
   "metadata": {},
   "source": [
    "<p lang=\"ru\"><b>Пункт №9:&nbsp;</b>Вычисление оптимального значения порога обнаружения аномалий в наборе данных <tt>ex8data2.mat</tt> с помощью нормального закона распределения. Для такого подбора используется алгоритм исчерпывающего поиска по указанным значениям параметра. Данный алгоритм перебирает все возможные значения порога и выбирает тот порог, при котором достигается наивысшая точность алгоритма.</p>"
   ]
  },
  {
   "cell_type": "code",
   "execution_count": 23,
   "metadata": {},
   "outputs": [],
   "source": [
    "# Вычисление основных числовых характеристик.\n",
    "mean, sigma = estimate_gaussian(data_x)"
   ]
  },
  {
   "cell_type": "code",
   "execution_count": 24,
   "metadata": {},
   "outputs": [],
   "source": [
    "# Вычисление плотности вероятности рассматриваемых данных.\n",
    "prob_value = calc_density(valid_x, mean, sigma)"
   ]
  },
  {
   "cell_type": "code",
   "execution_count": 25,
   "metadata": {},
   "outputs": [],
   "source": [
    "# Вычисление наилучшего порога для контрольного набора данных.\n",
    "threshold_value, f1_value = calc_threshold(valid_y, prob_value)"
   ]
  },
  {
   "cell_type": "code",
   "execution_count": 26,
   "metadata": {},
   "outputs": [],
   "source": [
    "# Вычисление результатов для контрольной выборки.\n",
    "out = calc_density(data_x, mean, sigma) < threshold_value"
   ]
  },
  {
   "cell_type": "code",
   "execution_count": 27,
   "metadata": {},
   "outputs": [
    {
     "name": "stdout",
     "output_type": "stream",
     "text": [
      "Значение предела: 2.9231789099163797e-19\n",
      "Значение F1-меры: 0.7368421052631577\n"
     ]
    }
   ],
   "source": [
    "print('Значение предела:', threshold_value)\n",
    "print('Значение F1-меры:', f1_value)"
   ]
  },
  {
   "cell_type": "code",
   "execution_count": 28,
   "metadata": {},
   "outputs": [
    {
     "name": "stdout",
     "output_type": "stream",
     "text": [
      "Аномалий найдено: 48\n"
     ]
    }
   ],
   "source": [
    "# Подсчет количества аномальных значений.\n",
    "print('Аномалий найдено:', np.sum(out))"
   ]
  }
 ],
 "metadata": {
  "kernelspec": {
   "display_name": "Python 3",
   "language": "python",
   "name": "python3"
  },
  "language_info": {
   "codemirror_mode": {
    "name": "ipython",
    "version": 3
   },
   "file_extension": ".py",
   "mimetype": "text/x-python",
   "name": "python",
   "nbconvert_exporter": "python",
   "pygments_lexer": "ipython3",
   "version": "3.7.5"
  }
 },
 "nbformat": 4,
 "nbformat_minor": 2
}
