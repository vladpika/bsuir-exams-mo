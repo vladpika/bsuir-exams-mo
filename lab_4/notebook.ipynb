{
 "cells": [
  {
   "cell_type": "code",
   "execution_count": 1,
   "metadata": {},
   "outputs": [
    {
     "data": {
      "application/javascript": [
       "$(document).ready(() => {\n",
       "    // Удаление данного блока кода с конечного результата.\n",
       "    $('div.code_cell').first().css('display', 'none');\n",
       "\n",
       "    // Включение автоматического переноса слов в параграфе.\n",
       "    $('div.text_cell p').css('hyphens', 'auto');\n",
       "\n",
       "    // Включение растягивания текста на всю доступную длину.\n",
       "    $('div.text_cell p').css('text-align', 'justify');\n",
       "});\n"
      ],
      "text/plain": [
       "<IPython.core.display.Javascript object>"
      ]
     },
     "metadata": {},
     "output_type": "display_data"
    }
   ],
   "source": [
    "%%javascript\n",
    "$(document).ready(() => {\n",
    "    // Удаление данного блока кода с конечного результата.\n",
    "    $('div.code_cell').first().css('display', 'none');\n",
    "\n",
    "    // Включение автоматического переноса слов в параграфе.\n",
    "    $('div.text_cell p').css('hyphens', 'auto');\n",
    "\n",
    "    // Включение растягивания текста на всю доступную длину.\n",
    "    $('div.text_cell p').css('text-align', 'justify');\n",
    "});"
   ]
  },
  {
   "cell_type": "markdown",
   "metadata": {},
   "source": [
    "<h3><b>Лабораторная работа №4: Нейронные сети</b></h3>"
   ]
  },
  {
   "cell_type": "markdown",
   "metadata": {},
   "source": [
    "<p lang=\"ru\">Искусственная нейронная сеть — это система соединенных и взаимодействующих между собой простых процессоров. Такие процессоры обычно довольно просты. Каждый процессор подобной сети имеет дело только с сигналами, которые он периодически получает, и сигналами, которые он периодически посылает другим процессорам. Тем не менее, будучи соединёнными в достаточно большую сеть с управляемым взаимодействием, эти процессоры вместе способны выполнять довольно сложные задачи, поскольку нейронные сети обучаются в процессе работы.</p>"
   ]
  },
  {
   "cell_type": "code",
   "execution_count": 2,
   "metadata": {},
   "outputs": [
    {
     "data": {
      "application/javascript": [
       "IPython.notebook.set_autosave_interval(300000)"
      ]
     },
     "metadata": {},
     "output_type": "display_data"
    },
    {
     "name": "stdout",
     "output_type": "stream",
     "text": [
      "Autosaving every 300 seconds\n"
     ]
    }
   ],
   "source": [
    "%autosave 300"
   ]
  },
  {
   "cell_type": "code",
   "execution_count": 3,
   "metadata": {},
   "outputs": [],
   "source": [
    "import warnings\n",
    "\n",
    "# Игнорирование некоторых оповещающих сообщений библиотек.\n",
    "warnings.filterwarnings('ignore', category=FutureWarning)"
   ]
  },
  {
   "cell_type": "code",
   "execution_count": 4,
   "metadata": {},
   "outputs": [],
   "source": [
    "import numpy as np\n",
    "import pandas as pd"
   ]
  },
  {
   "cell_type": "code",
   "execution_count": 5,
   "metadata": {},
   "outputs": [],
   "source": [
    "# Импортирование дополнительного алгоритма для оптимизации модели.\n",
    "from scipy.optimize import fmin_cg"
   ]
  },
  {
   "cell_type": "code",
   "execution_count": 6,
   "metadata": {},
   "outputs": [],
   "source": [
    "# Импортирование функции для чтения MATLAB файлов.\n",
    "from scipy.io import loadmat"
   ]
  },
  {
   "cell_type": "code",
   "execution_count": 7,
   "metadata": {},
   "outputs": [],
   "source": [
    "# Импортирование функции для разделения исходной выборки данных.\n",
    "from sklearn.model_selection import train_test_split"
   ]
  },
  {
   "cell_type": "code",
   "execution_count": 8,
   "metadata": {},
   "outputs": [],
   "source": [
    "# Импортирование библиотеки для работы с графиками.\n",
    "from matplotlib import pyplot\n",
    "%matplotlib inline"
   ]
  },
  {
   "cell_type": "code",
   "execution_count": 9,
   "metadata": {},
   "outputs": [],
   "source": [
    "# Установка начального значения для генератора случайных чисел.\n",
    "# Данное действие требуется для воспроизведения результатов опыта.\n",
    "np.random.seed(0)"
   ]
  },
  {
   "cell_type": "markdown",
   "metadata": {},
   "source": [
    "<p lang=\"ru\"><b>Пункт №1:&nbsp;</b>Загрузка первого предоставленного набора данных <tt>ex4data1.mat</tt> при помощи внешней библиотеки scipy. Текущий набор данных содержит несколько тысяч изображений в оттенках серого. Каждый пиксель представляет собой значение яркости.</p>"
   ]
  },
  {
   "cell_type": "code",
   "execution_count": 10,
   "metadata": {},
   "outputs": [],
   "source": [
    "data = loadmat('./datasets/ex4data1.mat')"
   ]
  },
  {
   "cell_type": "code",
   "execution_count": 11,
   "metadata": {},
   "outputs": [],
   "source": [
    "data_x = np.array(data['X'])\n",
    "data_y = np.array(data['y']).ravel()"
   ]
  },
  {
   "cell_type": "markdown",
   "metadata": {},
   "source": [
    "<p lang=\"ru\"><b>Пункт №2:&nbsp;</b>Загрузка первого предоставленного набора весовых коэффициентов <tt>ex4weights.mat</tt> при помощи внешней библиотеки scipy. Текущий набор весовых коэффициентов содержит натренированное индуцированное локальное поле полносвязной нейронной сети.</p>"
   ]
  },
  {
   "cell_type": "code",
   "execution_count": 12,
   "metadata": {},
   "outputs": [],
   "source": [
    "weights = loadmat('./datasets/ex4weights.mat')"
   ]
  },
  {
   "cell_type": "code",
   "execution_count": 13,
   "metadata": {},
   "outputs": [],
   "source": [
    "# Первая матрица весов имеет размер: 25 x 401.\n",
    "theta0 = weights['Theta1']\n",
    "\n",
    "# Вторая матрица весов имеет размер: 10 x 26.\n",
    "theta1 = weights['Theta2']"
   ]
  },
  {
   "cell_type": "code",
   "execution_count": 14,
   "metadata": {},
   "outputs": [],
   "source": [
    "# Преобразование всех весовых коэффициентов в общий вектор.\n",
    "theta = np.r_[theta0.ravel(), theta1.ravel()]"
   ]
  },
  {
   "cell_type": "markdown",
   "metadata": {},
   "source": [
    "<p lang=\"ru\"><b>Пункт №3:&nbsp;</b>Реализация функции прямого расспространения сигнала для данной математической модели. Функция для прямого расспространения необходима для получения результатов классификации нейронной сети.</p>"
   ]
  },
  {
   "cell_type": "code",
   "execution_count": 15,
   "metadata": {},
   "outputs": [],
   "source": [
    "def sigmoid(z):\n",
    "    # Сигмоидальная функция активации.\n",
    "    return np.power(1.0 + np.exp(-z), -1.0)"
   ]
  },
  {
   "cell_type": "code",
   "execution_count": 16,
   "metadata": {},
   "outputs": [],
   "source": [
    "def forward_pass(w0, w1, x):\n",
    "    # Добавление значений смещения.\n",
    "    s = np.c_[(np.ones(x.shape[0]), x)]\n",
    "\n",
    "    # Применение функции активации.\n",
    "    s = sigmoid(w0.dot(s.T))\n",
    "\n",
    "    # Добавление значений смещения.\n",
    "    s = np.c_[(np.ones(s.shape[1]), s.T)]\n",
    "\n",
    "    # Применение функции активации.\n",
    "    s = sigmoid(w1.dot(s.T))\n",
    "\n",
    "    # Вычисление результата прямого прохода сигнала в нейронной сети.\n",
    "    return np.argmax(s, axis=0) + np.repeat(1, s.shape[1])"
   ]
  },
  {
   "cell_type": "markdown",
   "metadata": {},
   "source": [
    "<p lang=\"ru\"><b>Пункт №4:&nbsp;</b>Проведение замеров точности обученной модели на исходных данных по заранее известным значениям. Данное действие необходимо для предварительной оценки корректности математической модели к обобщению данных.</p>"
   ]
  },
  {
   "cell_type": "code",
   "execution_count": 17,
   "metadata": {},
   "outputs": [
    {
     "name": "stdout",
     "output_type": "stream",
     "text": [
      "Значение точности: 0.9752\n"
     ]
    }
   ],
   "source": [
    "# Вычисление точности обученной математической модели.\n",
    "print('Значение точности:', np.mean(forward_pass(theta0, theta1, data_x) == data_y))"
   ]
  },
  {
   "cell_type": "markdown",
   "metadata": {},
   "source": [
    "<p lang=\"ru\"><b>Пункт №5:&nbsp;</b>Перекодирование исходных меток классов в унитарный код. Унитарный код — это двоичный код фиксированной длины, содержащий только однy прямой унитарный код или только один обратный унитарный код. Длина кода определяется количеством кодируемых объектов, то есть каждому объекту соответствует отдельный разряд кода, а значение кода положением один или ноль в кодовом слове.</p>"
   ]
  },
  {
   "cell_type": "code",
   "execution_count": 18,
   "metadata": {},
   "outputs": [],
   "source": [
    "data_y = pd.get_dummies(data_y.ravel()).values"
   ]
  },
  {
   "cell_type": "markdown",
   "metadata": {},
   "source": [
    "<p lang=\"ru\"><b>Пункт №6:&nbsp;</b>Реализация функции стоимости модели для набора данных <tt>ex4data1.mat</tt> при помощи внешней библиотеки numpy. Данная функция выражает меру количества ошибок, которые рассматриваемая модель делает на наборе данных. Хоть и существуют различные функции стоимости, все они вычисляют расстояние между предсказанным и фактическим значением.</p>"
   ]
  },
  {
   "cell_type": "code",
   "execution_count": 19,
   "metadata": {},
   "outputs": [],
   "source": [
    "num_labels = 10\n",
    "num_inputs = 400  # Изображение имеет размер 20 x 20 и разворачивается в вектор из 400 признаков.\n",
    "num_hidden = 25   # Количество нейронов скрытого слоя искусственной нейронной сети."
   ]
  },
  {
   "cell_type": "code",
   "execution_count": 20,
   "metadata": {},
   "outputs": [],
   "source": [
    "def calc_cost(w, x, y, l2=0.0, eps=1e-6):\n",
    "    # Создание первой матрицы с параметрами модели из общего вектора коэффициентов.\n",
    "    w0 = w[:num_hidden*(num_inputs+1)].reshape(num_hidden, num_inputs+1)\n",
    "\n",
    "    # Создание второй матрицы с параметрами модели из общего вектора коэффициентов.\n",
    "    w1 = w[num_hidden*(num_inputs+1):].reshape(num_labels, num_hidden+1)\n",
    "\n",
    "    # Добавление значений смещения.\n",
    "    s = np.c_[(np.ones(x.shape[0]), x)]\n",
    "\n",
    "    # Применение функции активации.\n",
    "    s = sigmoid(w0.dot(s.T))\n",
    "\n",
    "    # Добавление значений смещения.\n",
    "    s = np.c_[(np.ones(s.shape[1]), s.T)]\n",
    "\n",
    "    # Применение функции активации.\n",
    "    s = sigmoid(w1.dot(s.T))\n",
    "\n",
    "    # Вычисление значения функции стоимости.\n",
    "    cost = -np.sum(y * np.log(s.T) + (1 - y) * np.log(1 - s + eps).T) / x.shape[0]\n",
    "\n",
    "    # Вычисление значения суммы регуляризационных параметров.\n",
    "    reg_sum = np.sum(np.square(w0[:, 1:])) + np.sum(np.square(w1[:, 1:]))\n",
    "\n",
    "    # Вычисление значения стоимости модели с учетом регуляризации.\n",
    "    return cost + l2 / ( 2 * x.shape[0]) * reg_sum"
   ]
  },
  {
   "cell_type": "code",
   "execution_count": 21,
   "metadata": {},
   "outputs": [
    {
     "name": "stdout",
     "output_type": "stream",
     "text": [
      "Значение стоимости: 0.28762001166726947\n"
     ]
    }
   ],
   "source": [
    "# Вычисление значения стоимости обученной математической модели.\n",
    "print('Значение стоимости:', calc_cost(theta, data_x, data_y))"
   ]
  },
  {
   "cell_type": "markdown",
   "metadata": {},
   "source": [
    "<p lang=\"ru\"><b>Пункт №7:&nbsp;</b>Реализация функции вычисления градиента функции стоимости для данной математической модели. Данная функция необходима для корректировки параметров исходной модели методом обратного расспространения ошибки. Обратное распространение ошибки — это способ обучения нейронной сети. Цели обратного распространения просты — отрегулировать каждый вес пропорционально тому, насколько он способствует общей ошибке. Если итеративно уменьшать ошибку каждого веса, в конце концов будет ряд весов, которые дают хорошие прогнозы.</p>"
   ]
  },
  {
   "cell_type": "code",
   "execution_count": 22,
   "metadata": {},
   "outputs": [],
   "source": [
    "def sigmoid_grad(z):\n",
    "    # Вычисление градиента сигмоидальной функции.\n",
    "    return sigmoid(z) * (1 - sigmoid(z))"
   ]
  },
  {
   "cell_type": "code",
   "execution_count": 23,
   "metadata": {},
   "outputs": [],
   "source": [
    "def calc_grad(w, x, y, l2=0.0):\n",
    "    # Создание первой матрицы с параметрами модели из общего вектора коэффициентов.\n",
    "    w0 = w[:num_hidden*(num_inputs+1)].reshape(num_hidden, num_inputs+1)\n",
    "\n",
    "    # Создание второй матрицы с параметрами модели из общего вектора коэффициентов.\n",
    "    w1 = w[num_hidden*(num_inputs+1):].reshape(num_labels, num_hidden+1)\n",
    "\n",
    "    # Добавление значений смещения.\n",
    "    s0 = np.c_[(np.ones(x.shape[0]), x)]\n",
    "\n",
    "    # Применение функции активации.\n",
    "    s1 = sigmoid(w0.dot(s0.T))\n",
    "\n",
    "    # Добавление значений смещения.\n",
    "    s2 = np.c_[(np.ones(s1.shape[1]), s1.T)]\n",
    "\n",
    "    # Применение функции активации.\n",
    "    s3 = sigmoid(w1.dot(s2.T))\n",
    "\n",
    "    # Вычисление значений стоимостей слоев математической модели.\n",
    "    delta1 = s3 - y.T\n",
    "    delta0 = w1.T[1:, :].dot(delta1) * sigmoid_grad(w0.dot(s0.T))\n",
    "\n",
    "    # Вычисление значений градиентов параметров.\n",
    "    grad1 = delta1.dot(s2) / x.shape[0]\n",
    "    grad0 = delta0.dot(s0) / x.shape[0]\n",
    "\n",
    "    return np.r_[grad0.ravel(), grad1.ravel()]"
   ]
  },
  {
   "cell_type": "markdown",
   "metadata": {},
   "source": [
    "<p lang=\"ru\"><b>Пункт №8:&nbsp;</b>Реализация функции вычисления значения градиента при помощи численного метода. Нейронная сеть по существу является многомерной функцией, где коэффициенты или параметры функций необходимо найти или обучить. Из определения первой производной мы можем аппроксимировать градиент функции, тем самым проверить вычисление основной функции градиента на корректность работы.</p>"
   ]
  },
  {
   "cell_type": "code",
   "execution_count": 24,
   "metadata": {},
   "outputs": [],
   "source": [
    "def calc_num_grad(w, x, y, l2=0.0, eps=1e-4):\n",
    "    h = np.zeros((w.shape[0], w.shape[0]))\n",
    "\n",
    "    # Заполнение матрицы для вычисления погрешности.\n",
    "    np.fill_diagonal(h, eps)\n",
    "\n",
    "    loss0 = np.zeros(w.shape)\n",
    "    loss1 = np.zeros(w.shape)\n",
    "\n",
    "    # Вычисление значений стоимости модели с учетом погрешности.\n",
    "    for i in range(w.shape[0]):\n",
    "        loss0[i] = calc_cost(w - h[i], x, y)\n",
    "        loss1[i] = calc_cost(w + h[i], x, y)\n",
    "\n",
    "    # Вычисление значения градиента численным методом.\n",
    "    return (loss1 - loss0) / (2 * eps)"
   ]
  },
  {
   "cell_type": "code",
   "execution_count": 25,
   "metadata": {},
   "outputs": [
    {
     "name": "stdout",
     "output_type": "stream",
     "text": [
      "CPU times: user 18 s, sys: 3.03 s, total: 21 s\n",
      "Wall time: 25.7 s\n"
     ]
    }
   ],
   "source": [
    "%%time\n",
    "\n",
    "# Вычисление градиента основной функцией.\n",
    "grad0 = calc_grad(theta, data_x[0:30], data_y[0:30])\n",
    "\n",
    "# Вычисление градиента численным методом.\n",
    "grad1 = calc_num_grad(theta, data_x[0:30], data_y[0:30])"
   ]
  },
  {
   "cell_type": "code",
   "execution_count": 26,
   "metadata": {},
   "outputs": [
    {
     "name": "stdout",
     "output_type": "stream",
     "text": [
      "Проверка градиента: 2.9148286413566776e-07\n"
     ]
    }
   ],
   "source": [
    "# Вычисление значений разницы градиентов модели.\n",
    "print('Проверка градиента:', np.linalg.norm(grad0 - grad1) / np.linalg.norm(grad0 + grad1))"
   ]
  },
  {
   "cell_type": "markdown",
   "metadata": {},
   "source": [
    "<p lang=\"ru\"><b>Пункт №9:&nbsp;</b>Реализация функции инициализации параметров математической модели небольшими начальными значениями. Принцип выбора начальных значений весов для слоев, составляющих модель очень важен так как установка всех весов в ноль будет серьезным препятствием для обучения, так как ни один из весов изначально не будет активен. Даже если задача не предполагает такой крайности, удачно выбранный способ инициализации весов может значительно влиять на способность модели к обучению.</p>"
   ]
  },
  {
   "cell_type": "code",
   "execution_count": 27,
   "metadata": {},
   "outputs": [],
   "source": [
    "def init_theta(layer_in, layer_out):\n",
    "    # Вычисление порогового значения для инициализации параметров модели.\n",
    "    eps = np.sqrt(6) / np.sqrt(layer_in + layer_out)\n",
    "\n",
    "    # Инициализация параметров модели равномерным распределением.\n",
    "    return np.random.uniform(-eps, eps, size=(layer_out, layer_in))"
   ]
  },
  {
   "cell_type": "code",
   "execution_count": 28,
   "metadata": {},
   "outputs": [],
   "source": [
    "theta0 = init_theta(num_hidden, num_inputs+1)\n",
    "theta1 = init_theta(num_labels, num_hidden+1)"
   ]
  },
  {
   "cell_type": "code",
   "execution_count": 29,
   "metadata": {},
   "outputs": [],
   "source": [
    "# Преобразование всех весовых коэффициентов в общий вектор.\n",
    "thetas = np.r_[theta0.ravel(), theta1.ravel()]"
   ]
  },
  {
   "cell_type": "code",
   "execution_count": 30,
   "metadata": {},
   "outputs": [],
   "source": [
    "# Создание тренировочной и контрольной выборки данных.\n",
    "x_train, x_tests, y_train, y_tests = train_test_split(data_x, data_y)"
   ]
  },
  {
   "cell_type": "code",
   "execution_count": 31,
   "metadata": {},
   "outputs": [
    {
     "name": "stdout",
     "output_type": "stream",
     "text": [
      "CPU times: user 34.1 s, sys: 3.81 s, total: 37.9 s\n",
      "Wall time: 29.2 s\n"
     ]
    }
   ],
   "source": [
    "%%time\n",
    "\n",
    "# Запуск оптимизации математической модели.\n",
    "params = fmin_cg(f=calc_cost, x0=thetas, fprime=calc_grad, args=(x_train, y_train, 0.1), disp=0)"
   ]
  },
  {
   "cell_type": "code",
   "execution_count": 32,
   "metadata": {},
   "outputs": [
    {
     "name": "stdout",
     "output_type": "stream",
     "text": [
      "Значение стоимости: 0.1345218501541469\n"
     ]
    }
   ],
   "source": [
    "# Вычисление значения стоимости обученной математической модели.\n",
    "print('Значение стоимости:', calc_cost(params, x_train, y_train, 0.1))"
   ]
  },
  {
   "cell_type": "markdown",
   "metadata": {},
   "source": [
    "<p lang=\"ru\"><b>Пункт №10:&nbsp;</b>Визуализация скрытого слоя обученной математической модели. Данное действие необходимо для визуальной оценки корректности обучения математической модели. После построения графика скрытого слоя математической модели можно заметить очертания объектов, что говорит о корректном протекании обучения модели.</p>"
   ]
  },
  {
   "cell_type": "code",
   "execution_count": 33,
   "metadata": {},
   "outputs": [],
   "source": [
    "# Создание первой матрицы с параметрами модели из общего вектора коэффициентов.\n",
    "theta0 = params[:num_hidden*(num_inputs+1)].reshape(num_hidden, num_inputs+1)\n",
    "\n",
    "# Создание второй матрицы с параметрами модели из общего вектора коэффициентов.\n",
    "theta1 = params[num_hidden*(num_inputs+1):].reshape(num_labels, num_hidden+1)"
   ]
  },
  {
   "cell_type": "code",
   "execution_count": 34,
   "metadata": {},
   "outputs": [],
   "source": [
    "images = [\n",
    "    # Вырезание нескольких объектов из скрытого слоя.\n",
    "    theta0[i:i+5, :-1].reshape(-1, 20).T\n",
    "    for i in range(num_hidden // 5)\n",
    "]"
   ]
  },
  {
   "cell_type": "code",
   "execution_count": 35,
   "metadata": {},
   "outputs": [
    {
     "data": {
      "image/png": "[encoded data removed]",
      "text/plain": [
       "<Figure size 432x288 with 1 Axes>"
      ]
     },
     "metadata": {
      "needs_background": "light"
     },
     "output_type": "display_data"
    }
   ],
   "source": [
    "# Визуализация скрытого слоя обученной математической модели.\n",
    "pyplot.imshow(np.array(images).reshape(-1, 100), cmap='gray')\n",
    "\n",
    "# Отключение координатных осей.\n",
    "pyplot.axis('off')\n",
    "\n",
    "# Настройка отображения.\n",
    "pyplot.tight_layout()\n",
    "\n",
    "# Отображение графика.\n",
    "pyplot.show()"
   ]
  },
  {
   "cell_type": "markdown",
   "metadata": {},
   "source": [
    "<p lang=\"ru\"><b>Пункт №11:&nbsp;</b>Вычисление процента правильных классификаций математической модели на обучающей выборке. Точность предсказания часто оценивают как отношение количества верно определенных классов к общему количеству предсказаний. Данное действие необходимо для визуальной оценки корректности математической модели к обобщению данных.</p>"
   ]
  },
  {
   "cell_type": "code",
   "execution_count": 36,
   "metadata": {},
   "outputs": [],
   "source": [
    "# Перекодирование исходных меток классов из унитарного кода.\n",
    "y_tests = np.argmax(y_tests, axis=1) + np.repeat(1, y_tests.shape[0])"
   ]
  },
  {
   "cell_type": "code",
   "execution_count": 37,
   "metadata": {},
   "outputs": [
    {
     "name": "stdout",
     "output_type": "stream",
     "text": [
      "Значение точности: 0.924\n"
     ]
    }
   ],
   "source": [
    "# Вычисление точности обученной математической модели.\n",
    "print('Значение точности:', np.mean(forward_pass(theta0, theta1, x_tests) == y_tests))"
   ]
  }
 ],
 "metadata": {
  "kernelspec": {
   "display_name": "Python 3",
   "language": "python",
   "name": "python3"
  },
  "language_info": {
   "codemirror_mode": {
    "name": "ipython",
    "version": 3
   },
   "file_extension": ".py",
   "mimetype": "text/x-python",
   "name": "python",
   "nbconvert_exporter": "python",
   "pygments_lexer": "ipython3",
   "version": "3.7.5"
  }
 },
 "nbformat": 4,
 "nbformat_minor": 2
}
